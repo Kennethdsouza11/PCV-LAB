{
 "cells": [
  {
   "cell_type": "code",
   "execution_count": 3,
   "metadata": {},
   "outputs": [],
   "source": [
    "import numpy as np\n",
    "import matplotlib.pyplot as plt\n",
    "import cv2"
   ]
  },
  {
   "cell_type": "code",
   "execution_count": 4,
   "metadata": {},
   "outputs": [],
   "source": [
    "image1 = cv2.imread(r\"image.jpg\")"
   ]
  },
  {
   "cell_type": "code",
   "execution_count": null,
   "metadata": {},
   "outputs": [],
   "source": [
    "if image1 is None:\n",
    "    print(\"Error in loading the image\")\n",
    "else:\n",
    "    #convert the image to RGB\n",
    "    training_image = cv2.cvtColor(image1, cv2.COLOR_BGR2RGB)\n",
    "\n",
    "    #convert the image to gray image\n",
    "    training_gray = cv2.cvtColor(training_image, cv2.COLOR_RGB2GRAY)\n",
    "\n",
    "    #creating test image by adding scale invariance and rotational invariance\n",
    "    test_image = cv2.pyrDown(training_image)\n",
    "    test_image = cv2.pyrDown(test_image)\n",
    "    num_rows, num_cols = test_image.shape[:2]\n",
    "\n",
    "    rotation_matrix = cv2.getRotationMatrix2D((num_cols/2, num_rows/2), 30, 1)\n",
    "\n",
    "    test_image = cv2.warpAffine(test_image, rotation_matrix, (num_cols, num_rows))\n",
    "\n",
    "    test_gray = cv2.cvtColor(test_image, cv2.COLOR_RGB2GRAY)\n",
    "\n",
    "\n"
   ]
  }
 ],
 "metadata": {
  "kernelspec": {
   "display_name": ".venv",
   "language": "python",
   "name": "python3"
  },
  "language_info": {
   "codemirror_mode": {
    "name": "ipython",
    "version": 3
   },
   "file_extension": ".py",
   "mimetype": "text/x-python",
   "name": "python",
   "nbconvert_exporter": "python",
   "pygments_lexer": "ipython3",
   "version": "3.11.7"
  }
 },
 "nbformat": 4,
 "nbformat_minor": 2
}
