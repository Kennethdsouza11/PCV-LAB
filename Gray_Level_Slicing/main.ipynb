{
 "cells": [
  {
   "cell_type": "code",
   "execution_count": 8,
   "metadata": {},
   "outputs": [],
   "source": [
    "import numpy as np\n",
    "import matplotlib.pyplot as plt\n",
    "import cv2"
   ]
  },
  {
   "cell_type": "code",
   "execution_count": 9,
   "metadata": {},
   "outputs": [],
   "source": [
    "image = cv2.imread(r\"image.jpg\")\n",
    "row, col = image.shape[:2]\n",
    "img_arr = np.zeros((row, col), dtype = 'uint8')"
   ]
  },
  {
   "cell_type": "code",
   "execution_count": 10,
   "metadata": {},
   "outputs": [],
   "source": [
    "min_range = 80\n",
    "max_range = 140"
   ]
  },
  {
   "cell_type": "code",
   "execution_count": 11,
   "metadata": {},
   "outputs": [
    {
     "ename": "ValueError",
     "evalue": "The truth value of an array with more than one element is ambiguous. Use a.any() or a.all()",
     "output_type": "error",
     "traceback": [
      "\u001b[1;31m---------------------------------------------------------------------------\u001b[0m",
      "\u001b[1;31mValueError\u001b[0m                                Traceback (most recent call last)",
      "Cell \u001b[1;32mIn[11], line 3\u001b[0m\n\u001b[0;32m      1\u001b[0m \u001b[38;5;28;01mfor\u001b[39;00m i \u001b[38;5;129;01min\u001b[39;00m \u001b[38;5;28mrange\u001b[39m(row):\n\u001b[0;32m      2\u001b[0m     \u001b[38;5;28;01mfor\u001b[39;00m j \u001b[38;5;129;01min\u001b[39;00m \u001b[38;5;28mrange\u001b[39m(col):\n\u001b[1;32m----> 3\u001b[0m         \u001b[38;5;28;01mif\u001b[39;00m image[i,j] \u001b[38;5;241m>\u001b[39m min_range \u001b[38;5;129;01mand\u001b[39;00m image[i,j] \u001b[38;5;241m<\u001b[39m max_range:\n\u001b[0;32m      4\u001b[0m             img_arr[i,j] \u001b[38;5;241m=\u001b[39m \u001b[38;5;241m255\u001b[39m\n\u001b[0;32m      5\u001b[0m         \u001b[38;5;28;01melse\u001b[39;00m:\n",
      "\u001b[1;31mValueError\u001b[0m: The truth value of an array with more than one element is ambiguous. Use a.any() or a.all()"
     ]
    }
   ],
   "source": [
    "for i in range(row):\n",
    "    for j in range(col):\n",
    "        if image[i,j] > min_range and image[i,j] < max_range:\n",
    "            img_arr[i,j] = 255\n",
    "        else:\n",
    "            if i > 0 and j > 0:\n",
    "                img_arr[i,j] = image[i-1,j-1]\n",
    "            else:\n",
    "                img_arr[i,j] = image[i,j]\n",
    "        "
   ]
  },
  {
   "cell_type": "code",
   "execution_count": 12,
   "metadata": {},
   "outputs": [],
   "source": [
    "cv2.imwrite(\"Original_image.jpg\", image)\n",
    "cv2.imwrite(\"Sliced_Image.jpg\", img_arr)\n",
    "cv2.imshow(\"Original Image\", image)\n",
    "cv2.imshow(\"Sliced Image\", img_arr)\n",
    "cv2.waitKey(0)\n",
    "cv2.destroyAllWindows()"
   ]
  }
 ],
 "metadata": {
  "kernelspec": {
   "display_name": ".venv",
   "language": "python",
   "name": "python3"
  },
  "language_info": {
   "codemirror_mode": {
    "name": "ipython",
    "version": 3
   },
   "file_extension": ".py",
   "mimetype": "text/x-python",
   "name": "python",
   "nbconvert_exporter": "python",
   "pygments_lexer": "ipython3",
   "version": "3.11.7"
  }
 },
 "nbformat": 4,
 "nbformat_minor": 2
}
